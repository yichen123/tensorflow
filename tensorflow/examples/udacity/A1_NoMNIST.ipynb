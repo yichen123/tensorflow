{
 "cells": [
  {
   "cell_type": "markdown",
   "metadata": {},
   "source": [
    "Deep Learning\n",
    "=============\n",
    "\n",
    "Assignment 1\n",
    "------------\n",
    "\n",
    "The objective of this assignment is to learn about simple data curation practices, and familiarize you with some of the data we'll be reusing later.\n",
    "\n",
    "This notebook uses the [notMNIST](http://yaroslavvb.blogspot.com/2011/09/notmnist-dataset.html) dataset to be used with python experiments. This dataset is designed to look like the classic [MNIST](http://yann.lecun.com/exdb/mnist/) dataset, while looking a little more like real data: it's a harder task, and the data is a lot less 'clean' than MNIST."
   ]
  },
  {
   "cell_type": "code",
   "execution_count": 1,
   "metadata": {
    "collapsed": true
   },
   "outputs": [],
   "source": [
    "# These are all the modules we'll be using later. Make sure you can import them\n",
    "# before proceeding further.\n",
    "from __future__ import print_function\n",
    "import matplotlib.pyplot as plt\n",
    "import numpy as np\n",
    "import os\n",
    "import sys\n",
    "import tarfile\n",
    "from IPython.display import display, Image\n",
    "from scipy import ndimage\n",
    "from sklearn.linear_model import LogisticRegression\n",
    "from six.moves.urllib.request import urlretrieve\n",
    "from six.moves import cPickle as pickle\n",
    "\n",
    "# Config the matlotlib backend as plotting inline in IPython\n",
    "%matplotlib inline"
   ]
  },
  {
   "cell_type": "markdown",
   "metadata": {},
   "source": [
    "First, we'll download the dataset to our local machine. The data consists of characters rendered in a variety of fonts on a 28x28 image. The labels are limited to 'A' through 'J' (10 classes). The training set has about 500k and the testset 19000 labelled examples. Given these sizes, it should be possible to train models quickly on any machine."
   ]
  },
  {
   "cell_type": "code",
   "execution_count": 2,
   "metadata": {
    "collapsed": false
   },
   "outputs": [
    {
     "name": "stdout",
     "output_type": "stream",
     "text": [
      "Found and verified notMNIST_large.tar.gz\n",
      "Found and verified notMNIST_small.tar.gz\n"
     ]
    }
   ],
   "source": [
    "url = 'http://commondatastorage.googleapis.com/books1000/'\n",
    "last_percent_reported = None\n",
    "\n",
    "def download_progress_hook(count, blockSize, totalSize):\n",
    "  \"\"\"A hook to report the progress of a download. This is mostly intended for users with\n",
    "  slow internet connections. Reports every 1% change in download progress.\n",
    "  \"\"\"\n",
    "  global last_percent_reported\n",
    "  percent = int(count * blockSize * 100 / totalSize)\n",
    "\n",
    "  if last_percent_reported != percent:\n",
    "    if percent % 5 == 0:\n",
    "      sys.stdout.write(\"%s%%\" % percent)\n",
    "      sys.stdout.flush()\n",
    "    else:\n",
    "      sys.stdout.write(\".\")\n",
    "      sys.stdout.flush()\n",
    "      \n",
    "    last_percent_reported = percent\n",
    "        \n",
    "def maybe_download(filename, expected_bytes, force=False):\n",
    "  \"\"\"Download a file if not present, and make sure it's the right size.\"\"\"\n",
    "  if force or not os.path.exists(filename):\n",
    "    print('Attempting to download:', filename) \n",
    "    filename, _ = urlretrieve(url + filename, filename, reporthook=download_progress_hook)\n",
    "    print('\\nDownload Complete!')\n",
    "  statinfo = os.stat(filename)\n",
    "  if statinfo.st_size == expected_bytes:\n",
    "    print('Found and verified', filename)\n",
    "  else:\n",
    "    raise Exception(\n",
    "      'Failed to verify ' + filename + '. Can you get to it with a browser?')\n",
    "  return filename\n",
    "\n",
    "train_filename = maybe_download('notMNIST_large.tar.gz', 247336696)\n",
    "test_filename = maybe_download('notMNIST_small.tar.gz', 8458043)"
   ]
  },
  {
   "cell_type": "markdown",
   "metadata": {},
   "source": [
    "Extract the dataset from the compressed .tar.gz file.\n",
    "This should give you a set of directories, labelled A through J."
   ]
  },
  {
   "cell_type": "code",
   "execution_count": 3,
   "metadata": {
    "collapsed": false
   },
   "outputs": [
    {
     "name": "stdout",
     "output_type": "stream",
     "text": [
      "notMNIST_large already present - Skipping extraction of notMNIST_large.tar.gz.\n",
      "['notMNIST_large/A', 'notMNIST_large/B', 'notMNIST_large/C', 'notMNIST_large/D', 'notMNIST_large/E', 'notMNIST_large/F', 'notMNIST_large/G', 'notMNIST_large/H', 'notMNIST_large/I', 'notMNIST_large/J']\n",
      "notMNIST_small already present - Skipping extraction of notMNIST_small.tar.gz.\n",
      "['notMNIST_small/A', 'notMNIST_small/B', 'notMNIST_small/C', 'notMNIST_small/D', 'notMNIST_small/E', 'notMNIST_small/F', 'notMNIST_small/G', 'notMNIST_small/H', 'notMNIST_small/I', 'notMNIST_small/J']\n"
     ]
    }
   ],
   "source": [
    "num_classes = 10\n",
    "np.random.seed(133)\n",
    "\n",
    "def maybe_extract(filename, force=False):\n",
    "  root = os.path.splitext(os.path.splitext(filename)[0])[0]  # remove .tar.gz\n",
    "  if os.path.isdir(root) and not force:\n",
    "    # You may override by setting force=True.\n",
    "    print('%s already present - Skipping extraction of %s.' % (root, filename))\n",
    "  else:\n",
    "    print('Extracting data for %s. This may take a while. Please wait.' % root)\n",
    "    tar = tarfile.open(filename)\n",
    "    sys.stdout.flush()\n",
    "    tar.extractall()\n",
    "    tar.close()\n",
    "  data_folders = [\n",
    "    os.path.join(root, d) for d in sorted(os.listdir(root))\n",
    "    if os.path.isdir(os.path.join(root, d))]\n",
    "  if len(data_folders) != num_classes:\n",
    "    raise Exception(\n",
    "      'Expected %d folders, one per class. Found %d instead.' % (\n",
    "        num_classes, len(data_folders)))\n",
    "  print(data_folders)\n",
    "  return data_folders\n",
    "  \n",
    "train_folders = maybe_extract(train_filename)\n",
    "test_folders = maybe_extract(test_filename)"
   ]
  },
  {
   "cell_type": "markdown",
   "metadata": {},
   "source": [
    "---\n",
    "Problem 1\n",
    "---------\n",
    "\n",
    "Let's take a peek at some of the data to make sure it looks sensible. Each exemplar should be an image of a character A through J rendered in a different font. Display a sample of the images that we just downloaded. Hint: you can use the package IPython.display.\n",
    "\n",
    "---"
   ]
  },
  {
   "cell_type": "code",
   "execution_count": 39,
   "metadata": {
    "collapsed": false
   },
   "outputs": [],
   "source": [
    "def convert_2_valid_label(x):\n",
    "    valid_label = [65, 66, 67, 68, 69, 70, 71, 72, 73, 74]\n",
    "    num = ord(x)\n",
    "    if num not in valid_label:\n",
    "        num -= 32\n",
    "        if num not in valid_label:\n",
    "            return False\n",
    "    return chr(num)\n",
    "    \n",
    "def show_pic(data_set, label, num):\n",
    "    label = convert_2_valid_label(label)\n",
    "    if label == None:\n",
    "        return None\n",
    "    data = train_folders\n",
    "    if data_set == 'test':\n",
    "        data = test_folders\n",
    "    index = ord(label) - 65\n",
    "    pics = os.listdir(data[index])\n",
    "    path = os.path.join(data[index], pics[num])\n",
    "    image = ndimage.imread(path)\n",
    "    plt.imshow(image)\n",
    "    plt.gray()\n",
    "    print(path)\n",
    "    print(label)\n",
    "    plt.show()\n",
    "        "
   ]
  },
  {
   "cell_type": "code",
   "execution_count": 40,
   "metadata": {
    "collapsed": false
   },
   "outputs": [
    {
     "name": "stdout",
     "output_type": "stream",
     "text": [
      "notMNIST_small/D/Q29tcGF0aWxUZXh0IExUIFJlZ3VsYXIgU21hbGwgQ2Fwcy50dGY=.png\n",
      "D\n"
     ]
    },
    {
     "data": {
      "image/png": "[encoded data removed]",
      "text/plain": [
       "<matplotlib.figure.Figure at 0x1153ad350>"
      ]
     },
     "metadata": {},
     "output_type": "display_data"
    }
   ],
   "source": [
    "show_pic('test', 'd', 70)"
   ]
  },
  {
   "cell_type": "markdown",
   "metadata": {},
   "source": [
    "Now let's load the data in a more manageable format. Since, depending on your computer setup you might not be able to fit it all in memory, we'll load each class into a separate dataset, store them on disk and curate them independently. Later we'll merge them into a single dataset of manageable size.\n",
    "\n",
    "We'll convert the entire dataset into a 3D array (image index, x, y) of floating point values, normalized to have approximately zero mean and standard deviation ~0.5 to make training easier down the road. \n",
    "\n",
    "A few images might not be readable, we'll just skip them."
   ]
  },
  {
   "cell_type": "code",
   "execution_count": 6,
   "metadata": {
    "collapsed": false
   },
   "outputs": [
    {
     "name": "stdout",
     "output_type": "stream",
     "text": [
      "notMNIST_large/A.pickle already present - Skipping pickling.\n",
      "notMNIST_large/B.pickle already present - Skipping pickling.\n",
      "notMNIST_large/C.pickle already present - Skipping pickling.\n",
      "notMNIST_large/D.pickle already present - Skipping pickling.\n",
      "notMNIST_large/E.pickle already present - Skipping pickling.\n",
      "notMNIST_large/F.pickle already present - Skipping pickling.\n",
      "notMNIST_large/G.pickle already present - Skipping pickling.\n",
      "notMNIST_large/H.pickle already present - Skipping pickling.\n",
      "notMNIST_large/I.pickle already present - Skipping pickling.\n",
      "notMNIST_large/J.pickle already present - Skipping pickling.\n",
      "notMNIST_small/A.pickle already present - Skipping pickling.\n",
      "notMNIST_small/B.pickle already present - Skipping pickling.\n",
      "notMNIST_small/C.pickle already present - Skipping pickling.\n",
      "notMNIST_small/D.pickle already present - Skipping pickling.\n",
      "notMNIST_small/E.pickle already present - Skipping pickling.\n",
      "notMNIST_small/F.pickle already present - Skipping pickling.\n",
      "notMNIST_small/G.pickle already present - Skipping pickling.\n",
      "notMNIST_small/H.pickle already present - Skipping pickling.\n",
      "notMNIST_small/I.pickle already present - Skipping pickling.\n",
      "notMNIST_small/J.pickle already present - Skipping pickling.\n"
     ]
    }
   ],
   "source": [
    "image_size = 28  # Pixel width and height.\n",
    "pixel_depth = 255.0  # Number of levels per pixel.\n",
    "\n",
    "def load_letter(folder, min_num_images):\n",
    "  \"\"\"Load the data for a single letter label.\"\"\"\n",
    "  image_files = os.listdir(folder)\n",
    "  dataset = np.ndarray(shape=(len(image_files), image_size, image_size),\n",
    "                         dtype=np.float32)\n",
    "  print(folder)\n",
    "  num_images = 0\n",
    "  for image in image_files:\n",
    "    image_file = os.path.join(folder, image)\n",
    "    try:\n",
    "      image_data = (ndimage.imread(image_file).astype(float) - \n",
    "                    pixel_depth / 2) / pixel_depth\n",
    "      if image_data.shape != (image_size, image_size):\n",
    "        raise Exception('Unexpected image shape: %s' % str(image_data.shape))\n",
    "      dataset[num_images, :, :] = image_data\n",
    "      num_images = num_images + 1\n",
    "    except IOError as e:\n",
    "      print('Could not read:', image_file, ':', e, '- it\\'s ok, skipping.')\n",
    "    \n",
    "  dataset = dataset[0:num_images, :, :]\n",
    "  if num_images < min_num_images:\n",
    "    raise Exception('Many fewer images than expected: %d < %d' %\n",
    "                    (num_images, min_num_images))\n",
    "    \n",
    "  print('Full dataset tensor:', dataset.shape)\n",
    "  print('Mean:', np.mean(dataset))\n",
    "  print('Standard deviation:', np.std(dataset))\n",
    "  return dataset\n",
    "        \n",
    "def maybe_pickle(data_folders, min_num_images_per_class, force=False):\n",
    "  dataset_names = []\n",
    "  for folder in data_folders:\n",
    "    set_filename = folder + '.pickle'\n",
    "    dataset_names.append(set_filename)\n",
    "    if os.path.exists(set_filename) and not force:\n",
    "      # You may override by setting force=True.\n",
    "      print('%s already present - Skipping pickling.' % set_filename)\n",
    "    else:\n",
    "      print('Pickling %s.' % set_filename)\n",
    "      dataset = load_letter(folder, min_num_images_per_class)\n",
    "      try:\n",
    "        with open(set_filename, 'wb') as f:\n",
    "          pickle.dump(dataset, f, pickle.HIGHEST_PROTOCOL)\n",
    "      except Exception as e:\n",
    "        print('Unable to save data to', set_filename, ':', e)\n",
    "  \n",
    "  return dataset_names\n",
    "\n",
    "train_datasets = maybe_pickle(train_folders, 45000)\n",
    "test_datasets = maybe_pickle(test_folders, 1800)"
   ]
  },
  {
   "cell_type": "markdown",
   "metadata": {},
   "source": [
    "---\n",
    "Problem 2\n",
    "---------\n",
    "\n",
    "Let's verify that the data still looks good. Displaying a sample of the labels and images from the ndarray. Hint: you can use matplotlib.pyplot.\n",
    "\n",
    "---"
   ]
  },
  {
   "cell_type": "code",
   "execution_count": 48,
   "metadata": {
    "collapsed": false
   },
   "outputs": [],
   "source": [
    "def extract_from_pickle(path, number):\n",
    "    data = pickle.load(open(path + '.pickle'))\n",
    "    return data[number]\n",
    "\n",
    "def show_pic_from_matrix(matrix):\n",
    "    plt.imshow(matrix)\n",
    "    plt.gray()\n",
    "    plt.show()\n",
    "    \n",
    "\n",
    "def show_pic_from_pickle(dataset, label, number):\n",
    "    label = convert_2_valid_label(label)\n",
    "    folder = 'notMNIST_large'\n",
    "    if dataset == 'test':\n",
    "        folder = 'notMNIST_small'\n",
    "    path = os.path.join(folder, label)\n",
    "    pic = extract_from_pickle(path, number)\n",
    "    print(path)\n",
    "    show_pic_from_matrix(pic)\n",
    "\n",
    "    "
   ]
  },
  {
   "cell_type": "code",
   "execution_count": 49,
   "metadata": {
    "collapsed": false
   },
   "outputs": [
    {
     "name": "stdout",
     "output_type": "stream",
     "text": [
      "notMNIST_small/F/Q291cmllciAxMCBQaXRjaCBJdGFsaWMucGZi.png\n",
      "F\n"
     ]
    },
    {
     "data": {
      "image/png": "[encoded data removed]",
      "text/plain": [
       "<matplotlib.figure.Figure at 0x115080950>"
      ]
     },
     "metadata": {},
     "output_type": "display_data"
    },
    {
     "name": "stdout",
     "output_type": "stream",
     "text": [
      "notMNIST_small/F\n"
     ]
    },
    {
     "data": {
      "image/png": "[encoded data removed]",
      "text/plain": [
       "<matplotlib.figure.Figure at 0x1153c01d0>"
      ]
     },
     "metadata": {},
     "output_type": "display_data"
    }
   ],
   "source": [
    "show_pic('test', 'f', 30)\n",
    "show_pic_from_pickle('test', 'f', 30)"
   ]
  },
  {
   "cell_type": "markdown",
   "metadata": {},
   "source": [
    "---\n",
    "Problem 3\n",
    "---------\n",
    "Another check: we expect the data to be balanced across classes. Verify that.\n",
    "\n",
    "---"
   ]
  },
  {
   "cell_type": "code",
   "execution_count": 44,
   "metadata": {
    "collapsed": false
   },
   "outputs": [
    {
     "name": "stdout",
     "output_type": "stream",
     "text": [
      "notMNIST_large/G/aG9vZ2UgMDRfNjYudHRm.png\n",
      "G\n"
     ]
    },
    {
     "data": {
      "image/png": "[encoded data removed]",
      "text/plain": [
       "<matplotlib.figure.Figure at 0x1154735d0>"
      ]
     },
     "metadata": {},
     "output_type": "display_data"
    },
    {
     "name": "stdout",
     "output_type": "stream",
     "text": [
      "notMNIST_large/G\n"
     ]
    },
    {
     "data": {
      "image/png": "[encoded data removed]",
      "text/plain": [
       "<matplotlib.figure.Figure at 0x115ebb310>"
      ]
     },
     "metadata": {},
     "output_type": "display_data"
    }
   ],
   "source": [
    "show_pic('train', 'g', 40)\n",
    "show_pic_from_pickle('train', 'g', 40)"
   ]
  },
  {
   "cell_type": "markdown",
   "metadata": {},
   "source": [
    "Merge and prune the training data as needed. Depending on your computer setup, you might not be able to fit it all in memory, and you can tune `train_size` as needed. The labels will be stored into a separate array of integers 0 through 9.\n",
    "\n",
    "Also create a validation dataset for hyperparameter tuning."
   ]
  },
  {
   "cell_type": "code",
   "execution_count": 45,
   "metadata": {
    "collapsed": false
   },
   "outputs": [
    {
     "name": "stdout",
     "output_type": "stream",
     "text": [
      "Training: (200000, 28, 28) (200000,)\n",
      "Validation: (10000, 28, 28) (10000,)\n",
      "Testing: (10000, 28, 28) (10000,)\n"
     ]
    }
   ],
   "source": [
    "def make_arrays(nb_rows, img_size):\n",
    "  if nb_rows:\n",
    "    dataset = np.ndarray((nb_rows, img_size, img_size), dtype=np.float32)\n",
    "    labels = np.ndarray(nb_rows, dtype=np.int32)\n",
    "  else:\n",
    "    dataset, labels = None, None\n",
    "  return dataset, labels\n",
    "\n",
    "def merge_datasets(pickle_files, train_size, valid_size=0):\n",
    "  num_classes = len(pickle_files)\n",
    "  valid_dataset, valid_labels = make_arrays(valid_size, image_size)\n",
    "  train_dataset, train_labels = make_arrays(train_size, image_size)\n",
    "  vsize_per_class = valid_size // num_classes\n",
    "  tsize_per_class = train_size // num_classes\n",
    "    \n",
    "  start_v, start_t = 0, 0\n",
    "  end_v, end_t = vsize_per_class, tsize_per_class\n",
    "  end_l = vsize_per_class+tsize_per_class\n",
    "  for label, pickle_file in enumerate(pickle_files):       \n",
    "    try:\n",
    "      with open(pickle_file, 'rb') as f:\n",
    "        letter_set = pickle.load(f)\n",
    "        # let's shuffle the letters to have random validation and training set\n",
    "        np.random.shuffle(letter_set)\n",
    "        if valid_dataset is not None:\n",
    "          valid_letter = letter_set[:vsize_per_class, :, :]\n",
    "          valid_dataset[start_v:end_v, :, :] = valid_letter\n",
    "          valid_labels[start_v:end_v] = label\n",
    "          start_v += vsize_per_class\n",
    "          end_v += vsize_per_class\n",
    "                    \n",
    "        train_letter = letter_set[vsize_per_class:end_l, :, :]\n",
    "        train_dataset[start_t:end_t, :, :] = train_letter\n",
    "        train_labels[start_t:end_t] = label\n",
    "        start_t += tsize_per_class\n",
    "        end_t += tsize_per_class\n",
    "    except Exception as e:\n",
    "      print('Unable to process data from', pickle_file, ':', e)\n",
    "      raise\n",
    "    \n",
    "  return valid_dataset, valid_labels, train_dataset, train_labels\n",
    "            \n",
    "            \n",
    "train_size = 200000\n",
    "valid_size = 10000\n",
    "test_size = 10000\n",
    "\n",
    "valid_dataset, valid_labels, train_dataset, train_labels = merge_datasets(\n",
    "  train_datasets, train_size, valid_size)\n",
    "_, _, test_dataset, test_labels = merge_datasets(test_datasets, test_size)\n",
    "\n",
    "print('Training:', train_dataset.shape, train_labels.shape)\n",
    "print('Validation:', valid_dataset.shape, valid_labels.shape)\n",
    "print('Testing:', test_dataset.shape, test_labels.shape)"
   ]
  },
  {
   "cell_type": "markdown",
   "metadata": {},
   "source": [
    "Next, we'll randomize the data. It's important to have the labels well shuffled for the training and test distributions to match."
   ]
  },
  {
   "cell_type": "code",
   "execution_count": 46,
   "metadata": {
    "collapsed": true
   },
   "outputs": [],
   "source": [
    "def randomize(dataset, labels):\n",
    "  permutation = np.random.permutation(labels.shape[0])\n",
    "  shuffled_dataset = dataset[permutation,:,:]\n",
    "  shuffled_labels = labels[permutation]\n",
    "  return shuffled_dataset, shuffled_labels\n",
    "train_dataset, train_labels = randomize(train_dataset, train_labels)\n",
    "test_dataset, test_labels = randomize(test_dataset, test_labels)\n",
    "valid_dataset, valid_labels = randomize(valid_dataset, valid_labels)"
   ]
  },
  {
   "cell_type": "markdown",
   "metadata": {},
   "source": [
    "---\n",
    "Problem 4\n",
    "---------\n",
    "Convince yourself that the data is still good after shuffling!\n",
    "\n",
    "---"
   ]
  },
  {
   "cell_type": "code",
   "execution_count": 52,
   "metadata": {
    "collapsed": false
   },
   "outputs": [
    {
     "name": "stdout",
     "output_type": "stream",
     "text": [
      "F\n"
     ]
    },
    {
     "data": {
      "image/png": "[encoded data removed]",
      "text/plain": [
       "<matplotlib.figure.Figure at 0x11254b1d0>"
      ]
     },
     "metadata": {},
     "output_type": "display_data"
    }
   ],
   "source": [
    "print(chr(train_labels[500] + 65))\n",
    "show_pic_from_matrix(train_dataset[500])\n"
   ]
  },
  {
   "cell_type": "markdown",
   "metadata": {},
   "source": [
    "Finally, let's save the data for later reuse:"
   ]
  },
  {
   "cell_type": "code",
   "execution_count": 53,
   "metadata": {
    "collapsed": true
   },
   "outputs": [],
   "source": [
    "pickle_file = 'notMNIST.pickle'\n",
    "\n",
    "try:\n",
    "  f = open(pickle_file, 'wb')\n",
    "  save = {\n",
    "    'train_dataset': train_dataset,\n",
    "    'train_labels': train_labels,\n",
    "    'valid_dataset': valid_dataset,\n",
    "    'valid_labels': valid_labels,\n",
    "    'test_dataset': test_dataset,\n",
    "    'test_labels': test_labels,\n",
    "    }\n",
    "  pickle.dump(save, f, pickle.HIGHEST_PROTOCOL)\n",
    "  f.close()\n",
    "except Exception as e:\n",
    "  print('Unable to save data to', pickle_file, ':', e)\n",
    "  raise"
   ]
  },
  {
   "cell_type": "code",
   "execution_count": 54,
   "metadata": {
    "collapsed": false
   },
   "outputs": [
    {
     "name": "stdout",
     "output_type": "stream",
     "text": [
      "Compressed pickle size: 690800441\n"
     ]
    }
   ],
   "source": [
    "statinfo = os.stat(pickle_file)\n",
    "print('Compressed pickle size:', statinfo.st_size)"
   ]
  },
  {
   "cell_type": "markdown",
   "metadata": {},
   "source": [
    "---\n",
    "Problem 5\n",
    "---------\n",
    "\n",
    "By construction, this dataset might contain a lot of overlapping samples, including training data that's also contained in the validation and test set! Overlap between training and test can skew the results if you expect to use your model in an environment where there is never an overlap, but are actually ok if you expect to see training samples recur when you use it.\n",
    "Measure how much overlap there is between training, validation and test samples.\n",
    "\n",
    "Optional questions:\n",
    "- What about near duplicates between datasets? (images that are almost identical)\n",
    "- Create a sanitized validation and test set, and compare your accuracy on those in subsequent assignments.\n",
    "---"
   ]
  },
  {
   "cell_type": "markdown",
   "metadata": {},
   "source": [
    "---\n",
    "Problem 6\n",
    "---------\n",
    "\n",
    "Let's get an idea of what an off-the-shelf classifier can give you on this data. It's always good to check that there is something to learn, and that it's a problem that is not so trivial that a canned solution solves it.\n",
    "\n",
    "Train a simple model on this data using 50, 100, 1000 and 5000 training samples. Hint: you can use the LogisticRegression model from sklearn.linear_model.\n",
    "\n",
    "Optional question: train an off-the-shelf model on all the data!\n",
    "\n",
    "---"
   ]
  },
  {
   "cell_type": "code",
   "execution_count": 56,
   "metadata": {
    "collapsed": true
   },
   "outputs": [],
   "source": [
    "data_base = pickle.load(open('NotMNIST.pickle'))"
   ]
  },
  {
   "cell_type": "code",
   "execution_count": 57,
   "metadata": {
    "collapsed": false
   },
   "outputs": [
    {
     "data": {
      "text/plain": [
       "{'test_dataset': array([[[-0.5       , -0.5       , -0.5       , ..., -0.48823529,\n",
       "          -0.5       , -0.5       ],\n",
       "         [-0.5       , -0.5       , -0.5       , ..., -0.5       ,\n",
       "          -0.48823529, -0.5       ],\n",
       "         [-0.5       , -0.5       , -0.5       , ...,  0.02941176,\n",
       "          -0.5       , -0.49215686],\n",
       "         ..., \n",
       "         [-0.5       , -0.48823529, -0.5       , ..., -0.5       ,\n",
       "          -0.5       , -0.5       ],\n",
       "         [-0.18235295,  0.13529412,  0.07254902, ..., -0.5       ,\n",
       "          -0.5       , -0.5       ],\n",
       "         [ 0.22941177,  0.5       ,  0.49215686, ..., -0.5       ,\n",
       "          -0.5       , -0.5       ]],\n",
       " \n",
       "        [[-0.5       , -0.5       , -0.5       , ..., -0.46470588,\n",
       "          -0.5       , -0.49607843],\n",
       "         [-0.5       , -0.5       , -0.5       , ..., -0.25294119,\n",
       "          -0.5       , -0.48823529],\n",
       "         [-0.5       , -0.5       , -0.5       , ..., -0.43725491,\n",
       "          -0.5       , -0.49607843],\n",
       "         ..., \n",
       "         [-0.5       , -0.5       , -0.49607843, ..., -0.49215686,\n",
       "          -0.5       , -0.5       ],\n",
       "         [-0.5       , -0.5       , -0.5       , ..., -0.5       ,\n",
       "          -0.5       , -0.5       ],\n",
       "         [-0.5       , -0.5       , -0.5       , ..., -0.5       ,\n",
       "          -0.5       , -0.5       ]],\n",
       " \n",
       "        [[-0.5       , -0.5       , -0.5       , ...,  0.48823529,\n",
       "          -0.06078431, -0.5       ],\n",
       "         [-0.5       , -0.5       , -0.5       , ...,  0.49215686,\n",
       "           0.22941177, -0.5       ],\n",
       "         [-0.5       , -0.5       , -0.5       , ...,  0.5       ,\n",
       "          -0.06470589, -0.5       ],\n",
       "         ..., \n",
       "         [-0.46470588,  0.36274511,  0.5       , ..., -0.5       ,\n",
       "          -0.5       , -0.5       ],\n",
       "         [-0.39803922,  0.46078432,  0.5       , ..., -0.5       ,\n",
       "          -0.5       , -0.5       ],\n",
       "         [-0.48039216,  0.20588236,  0.5       , ..., -0.5       ,\n",
       "          -0.5       , -0.5       ]],\n",
       " \n",
       "        ..., \n",
       "        [[-0.49607843, -0.5       , -0.43725491, ...,  0.02156863,\n",
       "          -0.02941176, -0.5       ],\n",
       "         [-0.5       , -0.42156863, -0.04117647, ..., -0.5       ,\n",
       "          -0.16666667, -0.45686275],\n",
       "         [-0.48039216, -0.12352941, -0.39803922, ..., -0.49215686,\n",
       "           0.16666667,  0.36666667],\n",
       "         ..., \n",
       "         [-0.48823529, -0.5       , -0.19019608, ...,  0.5       ,\n",
       "           0.24117647, -0.48431373],\n",
       "         [-0.5       , -0.48823529, -0.5       , ...,  0.31568629,\n",
       "          -0.39019608, -0.49607843],\n",
       "         [-0.5       , -0.5       , -0.48823529, ..., -0.42941177,\n",
       "          -0.5       , -0.49215686]],\n",
       " \n",
       "        [[-0.5       , -0.5       , -0.5       , ...,  0.5       ,\n",
       "           0.5       ,  0.5       ],\n",
       "         [-0.5       , -0.5       , -0.5       , ...,  0.5       ,\n",
       "           0.5       ,  0.5       ],\n",
       "         [-0.5       , -0.5       , -0.5       , ...,  0.5       ,\n",
       "           0.5       ,  0.5       ],\n",
       "         ..., \n",
       "         [-0.49215686, -0.5       , -0.37058824, ..., -0.49215686,\n",
       "          -0.49607843, -0.49607843],\n",
       "         [-0.5       , -0.49215686, -0.5       , ..., -0.48823529,\n",
       "          -0.49607843, -0.5       ],\n",
       "         [-0.5       , -0.5       , -0.49215686, ..., -0.49607843,\n",
       "          -0.5       , -0.5       ]],\n",
       " \n",
       "        [[-0.13921569,  0.43333334,  0.1       , ..., -0.5       ,\n",
       "          -0.5       , -0.5       ],\n",
       "         [ 0.22941177,  0.5       ,  0.5       , ..., -0.5       ,\n",
       "          -0.5       , -0.5       ],\n",
       "         [ 0.16666667,  0.49607843,  0.47647059, ..., -0.5       ,\n",
       "          -0.5       , -0.5       ],\n",
       "         ..., \n",
       "         [-0.49607843, -0.5       , -0.47254902, ...,  0.5       ,\n",
       "           0.25686276, -0.48431373],\n",
       "         [-0.49607843, -0.5       , -0.5       , ...,  0.49215686,\n",
       "           0.5       , -0.10392157],\n",
       "         [-0.5       , -0.5       , -0.5       , ...,  0.44901961,\n",
       "           0.34705883, -0.04117647]]], dtype=float32),\n",
       " 'test_labels': array([3, 6, 4, ..., 6, 9, 0], dtype=int32),\n",
       " 'train_dataset': array([[[-0.5       , -0.49607843, -0.5       , ..., -0.5       ,\n",
       "          -0.49215686, -0.5       ],\n",
       "         [-0.49607843, -0.47647059, -0.5       , ..., -0.5       ,\n",
       "          -0.47254902, -0.49607843],\n",
       "         [-0.49607843, -0.49607843, -0.5       , ..., -0.5       ,\n",
       "          -0.49607843, -0.49607843],\n",
       "         ..., \n",
       "         [-0.49607843, -0.49215686, -0.5       , ..., -0.5       ,\n",
       "          -0.49215686, -0.49607843],\n",
       "         [-0.49607843, -0.47647059, -0.5       , ..., -0.5       ,\n",
       "          -0.47254902, -0.49607843],\n",
       "         [-0.5       , -0.49607843, -0.5       , ..., -0.5       ,\n",
       "          -0.49607843, -0.5       ]],\n",
       " \n",
       "        [[-0.5       , -0.5       , -0.5       , ...,  0.48823529,\n",
       "           0.5       ,  0.1509804 ],\n",
       "         [-0.5       , -0.5       , -0.5       , ...,  0.48431373,\n",
       "           0.14705883, -0.32745099],\n",
       "         [-0.5       , -0.5       , -0.5       , ..., -0.32745099,\n",
       "          -0.5       , -0.49607843],\n",
       "         ..., \n",
       "         [-0.5       , -0.44901961,  0.1509804 , ..., -0.5       ,\n",
       "          -0.5       , -0.5       ],\n",
       "         [-0.49607843, -0.49607843, -0.49215686, ..., -0.5       ,\n",
       "          -0.5       , -0.5       ],\n",
       "         [-0.5       , -0.49607843, -0.48823529, ..., -0.5       ,\n",
       "          -0.5       , -0.5       ]],\n",
       " \n",
       "        [[-0.5       , -0.5       , -0.5       , ..., -0.5       ,\n",
       "          -0.5       , -0.5       ],\n",
       "         [-0.5       , -0.5       , -0.5       , ..., -0.5       ,\n",
       "          -0.5       , -0.5       ],\n",
       "         [-0.5       , -0.5       , -0.49607843, ..., -0.5       ,\n",
       "          -0.5       , -0.5       ],\n",
       "         ..., \n",
       "         [-0.5       , -0.5       , -0.5       , ..., -0.48823529,\n",
       "          -0.5       , -0.5       ],\n",
       "         [-0.5       , -0.5       , -0.5       , ..., -0.5       ,\n",
       "          -0.5       , -0.5       ],\n",
       "         [-0.5       , -0.5       , -0.5       , ..., -0.5       ,\n",
       "          -0.5       , -0.5       ]],\n",
       " \n",
       "        ..., \n",
       "        [[-0.5       , -0.5       , -0.5       , ..., -0.49215686,\n",
       "          -0.5       , -0.5       ],\n",
       "         [-0.5       , -0.5       , -0.5       , ..., -0.49607843,\n",
       "          -0.49215686, -0.5       ],\n",
       "         [-0.5       , -0.5       , -0.5       , ..., -0.45686275,\n",
       "          -0.5       , -0.48823529],\n",
       "         ..., \n",
       "         [-0.5       , -0.5       , -0.5       , ...,  0.4137255 ,\n",
       "          -0.19019608, -0.5       ],\n",
       "         [-0.5       , -0.5       , -0.5       , ..., -0.45686275,\n",
       "          -0.5       , -0.49607843],\n",
       "         [-0.5       , -0.5       , -0.5       , ..., -0.49607843,\n",
       "          -0.49215686, -0.5       ]],\n",
       " \n",
       "        [[-0.5       , -0.5       , -0.5       , ...,  0.45686275,\n",
       "           0.5       ,  0.20980392],\n",
       "         [-0.5       , -0.5       , -0.5       , ...,  0.49607843,\n",
       "           0.5       ,  0.31568629],\n",
       "         [-0.5       , -0.5       , -0.5       , ..., -0.24509804,\n",
       "          -0.26862746, -0.42156863],\n",
       "         ..., \n",
       "         [ 0.2764706 ,  0.5       ,  0.5       , ...,  0.09215686,\n",
       "          -0.33529413, -0.5       ],\n",
       "         [-0.30784315,  0.32745099,  0.5       , ..., -0.5       ,\n",
       "          -0.5       , -0.5       ],\n",
       "         [-0.5       , -0.44509804, -0.12352941, ..., -0.48823529,\n",
       "          -0.49215686, -0.5       ]],\n",
       " \n",
       "        [[-0.5       , -0.5       , -0.48823529, ...,  0.47647059,\n",
       "           0.5       ,  0.14705883],\n",
       "         [-0.5       , -0.5       , -0.48431373, ...,  0.48431373,\n",
       "           0.5       , -0.01372549],\n",
       "         [-0.5       , -0.5       , -0.48431373, ...,  0.17843138,\n",
       "           0.18235295, -0.28039217],\n",
       "         ..., \n",
       "         [-0.00980392,  0.5       ,  0.48431373, ..., -0.48823529,\n",
       "          -0.5       , -0.5       ],\n",
       "         [ 0.14705883,  0.5       ,  0.48823529, ..., -0.48823529,\n",
       "          -0.5       , -0.5       ],\n",
       "         [ 0.30392158,  0.5       ,  0.49215686, ..., -0.49215686,\n",
       "          -0.5       , -0.5       ]]], dtype=float32),\n",
       " 'train_labels': array([4, 9, 6, ..., 2, 4, 4], dtype=int32),\n",
       " 'valid_dataset': array([[[ 0.46862745,  0.47254902,  0.47254902, ..., -0.5       ,\n",
       "          -0.5       , -0.5       ],\n",
       "         [ 0.5       ,  0.5       ,  0.5       , ..., -0.49215686,\n",
       "          -0.5       , -0.5       ],\n",
       "         [ 0.5       ,  0.5       ,  0.5       , ..., -0.5       ,\n",
       "          -0.48823529, -0.5       ],\n",
       "         ..., \n",
       "         [ 0.5       ,  0.5       ,  0.5       , ..., -0.48431373,\n",
       "          -0.5       , -0.49607843],\n",
       "         [ 0.5       ,  0.5       ,  0.5       , ..., -0.5       ,\n",
       "          -0.49607843, -0.5       ],\n",
       "         [ 0.5       ,  0.5       ,  0.5       , ..., -0.49607843,\n",
       "          -0.5       , -0.5       ]],\n",
       " \n",
       "        [[-0.5       , -0.5       , -0.5       , ...,  0.3509804 ,\n",
       "           0.42156863,  0.30000001],\n",
       "         [-0.5       , -0.5       , -0.5       , ...,  0.48823529,\n",
       "           0.5       ,  0.03333334],\n",
       "         [-0.5       , -0.5       , -0.5       , ...,  0.5       ,\n",
       "           0.47254902, -0.24901961],\n",
       "         ..., \n",
       "         [-0.46078432,  0.12745099,  0.5       , ..., -0.5       ,\n",
       "          -0.5       , -0.5       ],\n",
       "         [ 0.08039216,  0.5       ,  0.49215686, ..., -0.5       ,\n",
       "          -0.5       , -0.5       ],\n",
       "         [-0.43333334, -0.25294119,  0.0372549 , ..., -0.5       ,\n",
       "          -0.5       , -0.5       ]],\n",
       " \n",
       "        [[ 0.21372549,  0.5       ,  0.48039216, ..., -0.5       ,\n",
       "          -0.5       , -0.5       ],\n",
       "         [-0.22941177,  0.31176472,  0.5       , ..., -0.5       ,\n",
       "          -0.5       , -0.5       ],\n",
       "         [-0.5       , -0.46862745,  0.01764706, ..., -0.49607843,\n",
       "          -0.5       , -0.5       ],\n",
       "         ..., \n",
       "         [-0.5       , -0.47647059, -0.01372549, ..., -0.48823529,\n",
       "          -0.5       , -0.5       ],\n",
       "         [-0.26078433,  0.28823531,  0.5       , ..., -0.5       ,\n",
       "          -0.5       , -0.5       ],\n",
       "         [ 0.18627451,  0.5       ,  0.48039216, ..., -0.5       ,\n",
       "          -0.5       , -0.5       ]],\n",
       " \n",
       "        ..., \n",
       "        [[ 0.48039216,  0.48431373,  0.48431373, ...,  0.48431373,\n",
       "           0.48431373,  0.48039216],\n",
       "         [ 0.5       ,  0.5       ,  0.5       , ...,  0.5       ,\n",
       "           0.5       ,  0.5       ],\n",
       "         [-0.07254902, -0.00588235,  0.07254902, ...,  0.05686275,\n",
       "          -0.01372549, -0.07254902],\n",
       "         ..., \n",
       "         [-0.07254902, -0.01372549,  0.05686275, ...,  0.07647059,\n",
       "          -0.00588235, -0.07254902],\n",
       "         [ 0.5       ,  0.5       ,  0.5       , ...,  0.5       ,\n",
       "           0.5       ,  0.5       ],\n",
       "         [ 0.48039216,  0.48431373,  0.48431373, ...,  0.48431373,\n",
       "           0.48431373,  0.48039216]],\n",
       " \n",
       "        [[-0.5       , -0.5       , -0.5       , ..., -0.44509804,\n",
       "          -0.5       , -0.49607843],\n",
       "         [-0.5       , -0.5       , -0.5       , ...,  0.35490197,\n",
       "          -0.19411765, -0.5       ],\n",
       "         [-0.5       , -0.5       , -0.5       , ...,  0.5       ,\n",
       "           0.5       , -0.16666667],\n",
       "         ..., \n",
       "         [-0.48823529, -0.5       , -0.37843138, ..., -0.5       ,\n",
       "          -0.5       , -0.5       ],\n",
       "         [-0.5       , -0.48823529, -0.5       , ..., -0.5       ,\n",
       "          -0.5       , -0.5       ],\n",
       "         [-0.5       , -0.5       , -0.49215686, ..., -0.5       ,\n",
       "          -0.5       , -0.5       ]],\n",
       " \n",
       "        [[-0.07647059,  0.5       ,  0.5       , ...,  0.5       ,\n",
       "           0.5       ,  0.02941176],\n",
       "         [ 0.28039217,  0.05294118, -0.04509804, ..., -0.05294118,\n",
       "           0.00980392,  0.34313726],\n",
       "         [ 0.20196079, -0.5       , -0.5       , ..., -0.5       ,\n",
       "          -0.5       ,  0.18235295],\n",
       "         ..., \n",
       "         [-0.5       , -0.5       , -0.5       , ..., -0.5       ,\n",
       "          -0.5       , -0.5       ],\n",
       "         [-0.5       , -0.5       , -0.5       , ..., -0.5       ,\n",
       "          -0.5       , -0.5       ],\n",
       "         [-0.5       , -0.5       , -0.5       , ..., -0.5       ,\n",
       "          -0.5       , -0.5       ]]], dtype=float32),\n",
       " 'valid_labels': array([1, 9, 3, ..., 8, 9, 8], dtype=int32)}"
      ]
     },
     "metadata": {},
     "output_type": "display_data"
    }
   ],
   "source": [
    "display(data_base)"
   ]
  },
  {
   "cell_type": "code",
   "execution_count": 63,
   "metadata": {
    "collapsed": false
   },
   "outputs": [],
   "source": [
    "train_data = data_base['train_dataset']\n",
    "train_label = data_base['train_labels']\n",
    "test_data = data_base['test_dataset']\n",
    "test_label = data_base['test_labels']"
   ]
  },
  {
   "cell_type": "code",
   "execution_count": 62,
   "metadata": {
    "collapsed": false
   },
   "outputs": [
    {
     "data": {
      "image/png": "[encoded data removed]",
      "text/plain": [
       "<matplotlib.figure.Figure at 0x115335f50>"
      ]
     },
     "metadata": {},
     "output_type": "display_data"
    },
    {
     "name": "stdout",
     "output_type": "stream",
     "text": [
      "E\n"
     ]
    }
   ],
   "source": [
    "show_pic_from_matrix(train_data[0])\n",
    "\n",
    "print(chr(train_label[0] + 65))"
   ]
  },
  {
   "cell_type": "code",
   "execution_count": null,
   "metadata": {
    "collapsed": true
   },
   "outputs": [],
   "source": [
    "t_label = "
   ]
  }
 ],
 "metadata": {
  "anaconda-cloud": {},
  "kernelspec": {
   "display_name": "Python [tensorflow]",
   "language": "python",
   "name": "Python [tensorflow]"
  },
  "language_info": {
   "codemirror_mode": {
    "name": "ipython",
    "version": 2
   },
   "file_extension": ".py",
   "mimetype": "text/x-python",
   "name": "python",
   "nbconvert_exporter": "python",
   "pygments_lexer": "ipython2",
   "version": "2.7.12"
  }
 },
 "nbformat": 4,
 "nbformat_minor": 0
}
